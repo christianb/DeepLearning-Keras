{
 "cells": [
  {
   "cell_type": "markdown",
   "metadata": {},
   "source": [
    "The reuter data is encoded as a vector of indices. The actual words can be retrieved from a dictionary."
   ]
  },
  {
   "cell_type": "code",
   "execution_count": 1,
   "metadata": {},
   "outputs": [],
   "source": [
    "def reverse(data):\n",
    "    return dict([(value, key) for (key, value) in data.items()])\n",
    "\n",
    "def decode_review(word_index, data, index):\n",
    "    return ' '.join([word_index.get(i - 3, '?') for i in data[index]])\n",
    "\n",
    "def get_review(imdb, data, index):\n",
    "    reverse_word_index = reverse(imdb.get_word_index())\n",
    "    return decode_review(reverse_word_index, data, index)"
   ]
  },
  {
   "cell_type": "markdown",
   "metadata": {},
   "source": [
    "We can not give a (random length) list of integers to the neural network. So we have to transform them into Tensors of same length. If we have 10.000 words, a list of [5, 13, 42] (pointing to the words at these index) would transform into a vector with size of 10.000 which contains only Zeros except at the index of 5, 13 and 42 where it contains 1. This is called a One-hot encoding."
   ]
  },
  {
   "cell_type": "code",
   "execution_count": 2,
   "metadata": {},
   "outputs": [],
   "source": [
    "import numpy as np\n",
    "\n",
    "def one_hot_encoding(sequences, dimension):\n",
    "    results = np.zeros(shape=(len(sequences), dimension), dtype=float)\n",
    "    for i, sequence in enumerate(sequences):\n",
    "        results[i, sequence] = 1.\n",
    "    return results"
   ]
  },
  {
   "cell_type": "code",
   "execution_count": 6,
   "metadata": {},
   "outputs": [],
   "source": [
    "from keras import models\n",
    "from keras import layers\n",
    "\n",
    "def build_model():\n",
    "    model =  models.Sequential()\n",
    "    model.add(layers.Dense(64, activation='relu',  input_shape=(_NUM_WORDS,)))\n",
    "    model.add(layers.Dense(64, activation='relu'))\n",
    "    model.add(layers.Dense(46, activation='softmax'))\n",
    "\n",
    "    model.compile(optimizer='rmsprop', loss='categorical_crossentropy', metrics=['accuracy'])\n",
    "    return model\n",
    "\n",
    "# find the correct num of epochs before applying model to test_data\n",
    "def validate(train_data, train_labels, test_data, test_labels):\n",
    "    # From the 8982 samples we wanna use 1.000 as validation data\n",
    "    NUM_VALIDATION = 1000\n",
    "    validation_train_data = train_data[:NUM_VALIDATION]\n",
    "    partial_train_data = train_data[NUM_VALIDATION:]\n",
    "\n",
    "    validation_train_labels = train_labels[:NUM_VALIDATION]\n",
    "    partial_train_labels = train_labels[NUM_VALIDATION:]\n",
    "\n",
    "    model = build_model()\n",
    "\n",
    "    history = model.fit(partial_train_data, partial_train_labels, \n",
    "                        epochs=20, batch_size=512, verbose=0,\n",
    "                        validation_data=(validation_train_data, validation_train_labels))\n",
    "    return history\n",
    "\n",
    "def test(train_data, train_labels, test_data, test_labels):\n",
    "    model = build_model()\n",
    "    model.fit(train_data, train_labels, epochs=9, batch_size=512, verbose=0)\n",
    "\n",
    "    print(\"results: \", model.evaluate(test_data, test_labels))\n",
    "    #print(\"prediction for each test sample: \",model.predict(test_data)[0])"
   ]
  },
  {
   "cell_type": "code",
   "execution_count": 4,
   "metadata": {},
   "outputs": [],
   "source": [
    "import matplotlib.pyplot as plt\n",
    "\n",
    "def plot(history):\n",
    "    plot_loss_result(history)\n",
    "    plot_accuracy_result(history)\n",
    "    \n",
    "def plot_loss_result(history):\n",
    "    history_dict = history.history\n",
    "    loss_values = history_dict['loss']\n",
    "    validation_loss_values = history_dict['val_loss']\n",
    "    epochs = range(1, len(loss_values) + 1)\n",
    "    \n",
    "    plt.figure()\n",
    "    plt.plot(epochs, loss_values, 'bo', label=\"Loss Training\")\n",
    "    plt.plot(epochs, validation_loss_values, 'b', label='Loss Validation')\n",
    "    plt.title('Loss function results')\n",
    "    plt.xlabel('Epochs')\n",
    "    plt.ylabel('Value loss function')\n",
    "    plt.legend()\n",
    "    \n",
    "def plot_accuracy_result(history):\n",
    "    history_dict = history.history\n",
    "    acc_values = history_dict['acc']  \n",
    "    validation_acc_values = history_dict['val_acc']\n",
    "    epochs = range(1, len(acc_values) + 1)\n",
    "\n",
    "    plt.figure()\n",
    "    plt.plot(epochs, acc_values, 'bo', label='Accuracy Traning')\n",
    "    plt.plot(epochs, validation_acc_values, 'b', label='Accuracy Validation')\n",
    "    plt.title('Accuracy Results')\n",
    "    plt.xlabel('Epochs')\n",
    "    plt.ylabel('Accuracy value')\n",
    "    plt.legend()"
   ]
  },
  {
   "cell_type": "code",
   "execution_count": 7,
   "metadata": {},
   "outputs": [
    {
     "data": {
      "image/png": "[encoded data removed]",
      "text/plain": [
       "<matplotlib.figure.Figure at 0x7f4637310a20>"
      ]
     },
     "metadata": {
      "needs_background": "light"
     },
     "output_type": "display_data"
    },
    {
     "data": {
      "image/png": "[encoded data removed]",
      "text/plain": [
       "<matplotlib.figure.Figure at 0x7f465a6f39e8>"
      ]
     },
     "metadata": {
      "needs_background": "light"
     },
     "output_type": "display_data"
    }
   ],
   "source": [
    "from keras.datasets import reuters\n",
    "from keras.utils.np_utils import to_categorical\n",
    "\n",
    "_NUM_WORDS = 5000\n",
    "\n",
    "(train_data, train_labels), (test_data, test_labels) =  reuters.load_data(num_words=_NUM_WORDS)\n",
    "\n",
    "binary_train_data = one_hot_encoding(train_data, _NUM_WORDS)\n",
    "binary_test_data = one_hot_encoding(test_data, _NUM_WORDS)\n",
    "\n",
    "one_hot_train_labels = to_categorical(train_labels)\n",
    "one_hot_test_labels = to_categorical(test_labels)\n",
    "\n",
    "history = validate(binary_train_data, one_hot_train_labels, binary_test_data, one_hot_test_labels)\n",
    "plot(history)\n",
    "\n",
    "# test(binary_train_data, one_hot_train_labels, binary_test_data, one_hot_test_labels)"
   ]
  }
 ],
 "metadata": {
  "kernelspec": {
   "display_name": "Python 3",
   "language": "python",
   "name": "python3"
  },
  "language_info": {
   "codemirror_mode": {
    "name": "ipython",
    "version": 3
   },
   "file_extension": ".py",
   "mimetype": "text/x-python",
   "name": "python",
   "nbconvert_exporter": "python",
   "pygments_lexer": "ipython3",
   "version": "3.6.8"
  }
 },
 "nbformat": 4,
 "nbformat_minor": 2
}
