{
 "cells": [
  {
   "cell_type": "code",
   "execution_count": 4,
   "metadata": {},
   "outputs": [],
   "source": [
    "from keras import models\n",
    "from keras import layers\n",
    "\n",
    "def build_model(train_data):\n",
    "    model =  models.Sequential()\n",
    "    model.add(layers.Dense(64, activation='relu',  input_shape=(train_data.shape[1],)))\n",
    "    model.add(layers.Dense(64, activation='relu'))\n",
    "    model.add(layers.Dense(1))\n",
    "\n",
    "    model.compile(optimizer='rmsprop', loss='mse', metrics=['mae'])\n",
    "    return model"
   ]
  },
  {
   "cell_type": "code",
   "execution_count": 5,
   "metadata": {},
   "outputs": [],
   "source": [
    "import numpy as np\n",
    "\n",
    "def k_cross_validation(train_data, train_targets):\n",
    "    k=4\n",
    "    \n",
    "    num_val_samples = len(train_data) // k\n",
    "    num_epochs = 50\n",
    "    \n",
    "    all_scores = []\n",
    "    all_mae_histories = []\n",
    "\n",
    "    for i in range(k):\n",
    "        # print('Run #', i)\n",
    "        val_data = train_data[i * num_val_samples: (i + 1) * num_val_samples]\n",
    "        val_targets = train_targets[i * num_val_samples: (i + 1) * num_val_samples]\n",
    "\n",
    "        partial_train_data = np.concatenate([train_data[:i * num_val_samples], train_data[(i + 1) * num_val_samples:]], axis=0)\n",
    "        partial_train_targets = np.concatenate([train_targets[:i * num_val_samples], train_targets[(i + 1) * num_val_samples:]], axis=0)\n",
    "\n",
    "        model = build_model(train_data)\n",
    "        \n",
    "        history = model.fit(partial_train_data, partial_train_targets, validation_data=(val_data, val_targets), epochs=num_epochs, batch_size=1, verbose=0)\n",
    "        val_mse, val_mae = model.evaluate(val_data, val_targets, verbose=0)\n",
    "        mae_history = history.history['val_mean_absolute_error']\n",
    "\n",
    "        all_scores.append(val_mae)\n",
    "        all_mae_histories.append(mae_history)\n",
    "\n",
    "    print('scores from cross-validation: ', all_scores)\n",
    "    print('mean all scores: ', np.mean(all_scores))\n",
    "\n",
    "    # return average_mae_history\n",
    "    return [np.mean([x[i] for x in all_mae_histories]) for i in range(num_epochs)]"
   ]
  },
  {
   "cell_type": "code",
   "execution_count": 6,
   "metadata": {},
   "outputs": [
    {
     "name": "stdout",
     "output_type": "stream",
     "text": [
      "scores from cross-validation:  [2.1351391985864923, 2.369717522422866, 2.584068229883024, 2.4249959700178394]\n",
      "mean all scores:  2.3784802302275554\n"
     ]
    },
    {
     "data": {
      "text/plain": [
       "Text(0,0.5,'Mean absolut error - Validation')"
      ]
     },
     "execution_count": 6,
     "metadata": {},
     "output_type": "execute_result"
    },
    {
     "data": {
      "image/png": "[encoded data removed]",
      "text/plain": [
       "<matplotlib.figure.Figure at 0x7f7b7f6b5128>"
      ]
     },
     "metadata": {
      "needs_background": "light"
     },
     "output_type": "display_data"
    }
   ],
   "source": [
    "from keras.datasets import boston_housing\n",
    "import matplotlib.pyplot as plt\n",
    "\n",
    "(train_data, train_targets), (test_data, test_targets) =  boston_housing.load_data()\n",
    "\n",
    "# normalize data\n",
    "mean = train_data.mean(axis=0)\n",
    "train_data -= mean\n",
    "std = train_data.std(axis=0)\n",
    "train_data /= std\n",
    "\n",
    "test_data -= mean # TODO could we calculate the mean and std from test_data itself?\n",
    "test_data /= std\n",
    "\n",
    "average_mae_history = k_cross_validation(train_data, train_targets)\n",
    "\n",
    "plt.figure()\n",
    "plt.plot(range(1, len(average_mae_history) + 1), average_mae_history)\n",
    "plt.xlabel('Epochs')\n",
    "plt.ylabel('Mean absolut error - Validation')"
   ]
  }
 ],
 "metadata": {
  "kernelspec": {
   "display_name": "Python 3",
   "language": "python",
   "name": "python3"
  },
  "language_info": {
   "codemirror_mode": {
    "name": "ipython",
    "version": 3
   },
   "file_extension": ".py",
   "mimetype": "text/x-python",
   "name": "python",
   "nbconvert_exporter": "python",
   "pygments_lexer": "ipython3",
   "version": "3.6.8"
  }
 },
 "nbformat": 4,
 "nbformat_minor": 2
}
